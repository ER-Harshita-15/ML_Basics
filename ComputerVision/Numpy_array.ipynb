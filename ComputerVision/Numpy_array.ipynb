{
 "cells": [
  {
   "cell_type": "code",
   "execution_count": 1,
   "id": "98250858",
   "metadata": {},
   "outputs": [],
   "source": [
    "import numpy as np"
   ]
  },
  {
   "cell_type": "code",
   "execution_count": 2,
   "id": "1be308d5",
   "metadata": {},
   "outputs": [],
   "source": [
    "x=[1,2,3,4,5,6,7,8,9,10]"
   ]
  },
  {
   "cell_type": "code",
   "execution_count": 3,
   "id": "4b0a9f1d",
   "metadata": {},
   "outputs": [
    {
     "data": {
      "text/plain": [
       "list"
      ]
     },
     "execution_count": 3,
     "metadata": {},
     "output_type": "execute_result"
    }
   ],
   "source": [
    "type(x)"
   ]
  },
  {
   "cell_type": "code",
   "execution_count": 4,
   "id": "f6ae0f13",
   "metadata": {},
   "outputs": [],
   "source": [
    "arr=np.array(x)"
   ]
  },
  {
   "cell_type": "code",
   "execution_count": 5,
   "id": "e52d513a",
   "metadata": {},
   "outputs": [
    {
     "data": {
      "text/plain": [
       "numpy.ndarray"
      ]
     },
     "execution_count": 5,
     "metadata": {},
     "output_type": "execute_result"
    }
   ],
   "source": [
    "type(arr)"
   ]
  },
  {
   "cell_type": "code",
   "execution_count": 6,
   "id": "a61b23ee",
   "metadata": {},
   "outputs": [
    {
     "data": {
      "text/plain": [
       "array([ 1,  2,  3,  4,  5,  6,  7,  8,  9, 10, 11, 12, 13, 14])"
      ]
     },
     "execution_count": 6,
     "metadata": {},
     "output_type": "execute_result"
    }
   ],
   "source": [
    "np.arange(1,15)"
   ]
  },
  {
   "cell_type": "code",
   "execution_count": 8,
   "id": "9b613e6e",
   "metadata": {},
   "outputs": [
    {
     "data": {
      "text/plain": [
       "array([ 1,  4,  7, 10])"
      ]
     },
     "execution_count": 8,
     "metadata": {},
     "output_type": "execute_result"
    }
   ],
   "source": [
    "np.arange(1,11,3) # start, stop, step"
   ]
  },
  {
   "cell_type": "code",
   "execution_count": 11,
   "id": "6e6ffd05",
   "metadata": {},
   "outputs": [
    {
     "data": {
      "text/plain": [
       "array([[0., 0., 0., 0.],\n",
       "       [0., 0., 0., 0.],\n",
       "       [0., 0., 0., 0.]])"
      ]
     },
     "execution_count": 11,
     "metadata": {},
     "output_type": "execute_result"
    }
   ],
   "source": [
    "np.zeros((3,4)) # 3 rows, 4 columns"
   ]
  },
  {
   "cell_type": "markdown",
   "id": "e57c5b14",
   "metadata": {},
   "source": [
    "Zeros and ones are widely used in cv\n"
   ]
  },
  {
   "cell_type": "code",
   "execution_count": 12,
   "id": "7809858f",
   "metadata": {},
   "outputs": [
    {
     "data": {
      "text/plain": [
       "array([[1., 1., 1., 1.],\n",
       "       [1., 1., 1., 1.],\n",
       "       [1., 1., 1., 1.]])"
      ]
     },
     "execution_count": 12,
     "metadata": {},
     "output_type": "execute_result"
    }
   ],
   "source": [
    "np.ones((3,4)) # 3 rows, 4 columns"
   ]
  },
  {
   "cell_type": "code",
   "execution_count": 15,
   "id": "dd983306",
   "metadata": {},
   "outputs": [
    {
     "data": {
      "text/plain": [
       "array([870, 564, 297, 993, 963, 533,   9, 774, 722, 175, 660, 232, 336,\n",
       "       819, 173, 426, 860,  19, 975, 234, 877, 462, 381, 410, 683, 762,\n",
       "         2, 507, 780, 630, 646, 840, 375, 551, 605, 305, 508, 840, 344,\n",
       "       106, 574, 566,  84, 666, 287, 994, 592,  22, 979, 522], dtype=int32)"
      ]
     },
     "execution_count": 15,
     "metadata": {},
     "output_type": "execute_result"
    }
   ],
   "source": [
    "arr1=np.random.randint(1,1000,50) # 50 random integers between 1 and 1000\n",
    "arr1"
   ]
  },
  {
   "cell_type": "markdown",
   "id": "eb95cfa1",
   "metadata": {},
   "source": [
    "When seed value is not given then random value always get changes"
   ]
  },
  {
   "cell_type": "code",
   "execution_count": 14,
   "id": "5234f657",
   "metadata": {},
   "outputs": [
    {
     "data": {
      "text/plain": [
       "array([915, 285, 632, 870, 409,  55, 984, 451, 651, 744, 674, 951, 471,\n",
       "       367,  35, 613, 888, 554, 932, 732, 211, 550, 274, 691, 338, 839,\n",
       "       801, 520, 295, 853, 847, 943,  76,  23, 362,  72,   5, 751, 735,\n",
       "       266, 908, 945, 164,  99, 904, 164, 129, 148, 765, 178], dtype=int32)"
      ]
     },
     "execution_count": 14,
     "metadata": {},
     "output_type": "execute_result"
    }
   ],
   "source": [
    "\n",
    "arr1=np.random.randint(1,1000,50) # 50 random integers between 1 and 1000\n",
    "arr1\n"
   ]
  },
  {
   "cell_type": "code",
   "execution_count": 17,
   "id": "8db2e3f5",
   "metadata": {},
   "outputs": [
    {
     "data": {
      "text/plain": [
       "array([103, 436, 861, 271, 107,  72, 701,  21, 615, 122, 467, 215, 331,\n",
       "       459,  88, 373, 100, 872, 664, 131, 662, 309, 770, 344, 492, 414,\n",
       "       806, 386, 192, 956, 277, 161, 460, 314,  22, 253, 748, 857, 561,\n",
       "       475,  59, 511, 682, 476, 700, 976, 783, 190, 958, 687], dtype=int32)"
      ]
     },
     "execution_count": 17,
     "metadata": {},
     "output_type": "execute_result"
    }
   ],
   "source": [
    "np.random.seed(42) # for reproducibility\n",
    "arr1=np.random.randint(1,1000,50) # 50 random integers between 1 and 1000\n",
    "arr1"
   ]
  },
  {
   "cell_type": "code",
   "execution_count": 19,
   "id": "96bcbe3e",
   "metadata": {},
   "outputs": [
    {
     "data": {
      "text/plain": [
       "array([103, 436, 861, 271, 107,  72, 701,  21, 615, 122, 467, 215, 331,\n",
       "       459,  88, 373, 100, 872, 664, 131, 662, 309, 770, 344, 492, 414,\n",
       "       806, 386, 192, 956, 277, 161, 460, 314,  22, 253, 748, 857, 561,\n",
       "       475,  59, 511, 682, 476, 700, 976, 783, 190, 958, 687], dtype=int32)"
      ]
     },
     "execution_count": 19,
     "metadata": {},
     "output_type": "execute_result"
    }
   ],
   "source": [
    "arr1  #as seed value is given then random value always get same"
   ]
  },
  {
   "cell_type": "code",
   "execution_count": 21,
   "id": "20a62747",
   "metadata": {},
   "outputs": [
    {
     "data": {
      "text/plain": [
       "array([[42, 70, 66, 69],\n",
       "       [32,  5, 42, 97],\n",
       "       [17, 31, 59, 19]], dtype=int32)"
      ]
     },
     "execution_count": 21,
     "metadata": {},
     "output_type": "execute_result"
    }
   ],
   "source": [
    "np.random.seed(16) # for reproducibility\n",
    "arr2=np.random.randint(1,100,(3,4)) # 3 rows, 4 columns\n",
    "arr2"
   ]
  },
  {
   "cell_type": "code",
   "execution_count": 22,
   "id": "065d55bc",
   "metadata": {},
   "outputs": [
    {
     "data": {
      "text/plain": [
       "array([[103, 436, 861, 271, 107,  72, 701,  21, 615, 122],\n",
       "       [467, 215, 331, 459,  88, 373, 100, 872, 664, 131],\n",
       "       [662, 309, 770, 344, 492, 414, 806, 386, 192, 956],\n",
       "       [277, 161, 460, 314,  22, 253, 748, 857, 561, 475],\n",
       "       [ 59, 511, 682, 476, 700, 976, 783, 190, 958, 687]], dtype=int32)"
      ]
     },
     "execution_count": 22,
     "metadata": {},
     "output_type": "execute_result"
    }
   ],
   "source": [
    "arr1.reshape(5,10) # 5 rows, 10 columns"
   ]
  },
  {
   "cell_type": "code",
   "execution_count": 27,
   "id": "d0664fc3",
   "metadata": {},
   "outputs": [
    {
     "data": {
      "text/plain": [
       "array([[42, 70, 66, 69, 32,  5],\n",
       "       [42, 97, 17, 31, 59, 19]], dtype=int32)"
      ]
     },
     "execution_count": 27,
     "metadata": {},
     "output_type": "execute_result"
    }
   ],
   "source": [
    "arr2.reshape(2,6) # 2rows, 6 columns    #This will work only if total number of elements are same e.g. 3*4=12 and 2*6=12"
   ]
  },
  {
   "cell_type": "code",
   "execution_count": 53,
   "id": "b665ec99",
   "metadata": {},
   "outputs": [
    {
     "data": {
      "text/plain": [
       "array([[470,  63, 122, 397,  81, 448, 931, 575, 354, 818],\n",
       "       [922, 983, 302, 870,  23, 601, 848, 367,  82, 886],\n",
       "       [578, 487, 107,  22, 121, 632,  94, 166, 402, 854],\n",
       "       [433, 248, 123, 933, 656,  60,  65, 554, 258, 821],\n",
       "       [203, 330, 880, 543, 182, 781, 193, 681, 496, 994]], dtype=int32)"
      ]
     },
     "execution_count": 53,
     "metadata": {},
     "output_type": "execute_result"
    }
   ],
   "source": [
    "#Everything in one line\n",
    "arr3=np.random.randint(0,1000,50).reshape(5,10) # 50 random integers between 1 and 1000, reshaped to 5 rows, 10 columns\n",
    "arr3"
   ]
  },
  {
   "cell_type": "code",
   "execution_count": 54,
   "id": "8791a433",
   "metadata": {},
   "outputs": [
    {
     "name": "stdout",
     "output_type": "stream",
     "text": [
      "994\n",
      "22\n"
     ]
    }
   ],
   "source": [
    "print(arr3.max())\n",
    "print(arr3.min())"
   ]
  },
  {
   "cell_type": "code",
   "execution_count": 55,
   "id": "11b51372",
   "metadata": {},
   "outputs": [
    {
     "data": {
      "text/plain": [
       "np.float64(460.8)"
      ]
     },
     "execution_count": 55,
     "metadata": {},
     "output_type": "execute_result"
    }
   ],
   "source": [
    "arr3.mean()"
   ]
  },
  {
   "cell_type": "code",
   "execution_count": 56,
   "id": "1dc330b7",
   "metadata": {},
   "outputs": [
    {
     "name": "stdout",
     "output_type": "stream",
     "text": [
      "49\n",
      "23\n"
     ]
    }
   ],
   "source": [
    "print(arr3.argmax()) # index of maximum value\n",
    "\n",
    "print(arr3.argmin()) # index of minimum value"
   ]
  },
  {
   "cell_type": "code",
   "execution_count": 57,
   "id": "e0771ca1",
   "metadata": {},
   "outputs": [
    {
     "name": "stdout",
     "output_type": "stream",
     "text": [
      "(50,)\n",
      "(3, 4)\n",
      "(5, 10)\n"
     ]
    }
   ],
   "source": [
    "print(arr1.shape)\n",
    "print(arr2.shape)\n",
    "print(arr3.shape)"
   ]
  },
  {
   "cell_type": "code",
   "execution_count": 58,
   "id": "8f2ff1b8",
   "metadata": {},
   "outputs": [
    {
     "name": "stdout",
     "output_type": "stream",
     "text": [
      "470\n"
     ]
    }
   ],
   "source": [
    "row=0\n",
    "column=0\n",
    "print(arr3[row,column]) # access element at row 0, column 0"
   ]
  },
  {
   "cell_type": "code",
   "execution_count": 59,
   "id": "88c3e03e",
   "metadata": {},
   "outputs": [
    {
     "name": "stdout",
     "output_type": "stream",
     "text": [
      "[470 922 578 433 203]\n",
      "[470  63 122 397  81 448 931 575 354 818]\n"
     ]
    }
   ],
   "source": [
    "print(arr3[:,column])\n",
    "print(arr3[row,:]) # access all columns of row 0"
   ]
  },
  {
   "cell_type": "code",
   "execution_count": 60,
   "id": "bffd30b7",
   "metadata": {},
   "outputs": [
    {
     "name": "stdout",
     "output_type": "stream",
     "text": [
      "[[302 870  23]\n",
      " [107  22 121]]\n"
     ]
    }
   ],
   "source": [
    "print(arr3[1:3, 2:5]) # access rows 1 to 2 and columns 2 to 4"
   ]
  },
  {
   "cell_type": "code",
   "execution_count": 61,
   "id": "fa40d36f",
   "metadata": {},
   "outputs": [
    {
     "data": {
      "text/plain": [
       "array([[470,  63, 122, 397,  81, 448, 931, 575, 354, 818],\n",
       "       [922, 983,   0,   0,   0, 601, 848, 367,  82, 886],\n",
       "       [578, 487,   0,   0,   0, 632,  94, 166, 402, 854],\n",
       "       [433, 248, 123, 933, 656,  60,  65, 554, 258, 821],\n",
       "       [203, 330, 880, 543, 182, 781, 193, 681, 496, 994]], dtype=int32)"
      ]
     },
     "execution_count": 61,
     "metadata": {},
     "output_type": "execute_result"
    }
   ],
   "source": [
    "arr3[1:3, 2:5]=0\n",
    "arr3"
   ]
  },
  {
   "cell_type": "code",
   "execution_count": 64,
   "id": "472d3f21",
   "metadata": {},
   "outputs": [],
   "source": [
    "arr5=arr3.copy() # create a copy of arr3"
   ]
  },
  {
   "cell_type": "code",
   "execution_count": 65,
   "id": "1ba705a5",
   "metadata": {},
   "outputs": [
    {
     "data": {
      "text/plain": [
       "array([[470,  63, 122, 397,  81, 448, 931, 575, 354, 818],\n",
       "       [922, 983,   0,   0,   0, 601, 848, 367,  82, 886],\n",
       "       [578, 487,   0,   0,   0, 632,  94, 166, 402, 854],\n",
       "       [433, 248, 123, 933, 656,  60,  65, 554, 258, 821],\n",
       "       [203, 330, 880, 543, 182, 781, 193, 681, 496, 994]], dtype=int32)"
      ]
     },
     "execution_count": 65,
     "metadata": {},
     "output_type": "execute_result"
    }
   ],
   "source": [
    "arr5"
   ]
  },
  {
   "cell_type": "code",
   "execution_count": null,
   "id": "db5579be",
   "metadata": {},
   "outputs": [],
   "source": []
  },
  {
   "cell_type": "code",
   "execution_count": null,
   "id": "63be5ff7",
   "metadata": {},
   "outputs": [],
   "source": []
  }
 ],
 "metadata": {
  "kernelspec": {
   "display_name": "Python 3",
   "language": "python",
   "name": "python3"
  },
  "language_info": {
   "codemirror_mode": {
    "name": "ipython",
    "version": 3
   },
   "file_extension": ".py",
   "mimetype": "text/x-python",
   "name": "python",
   "nbconvert_exporter": "python",
   "pygments_lexer": "ipython3",
   "version": "3.12.0"
  }
 },
 "nbformat": 4,
 "nbformat_minor": 5
}
